{
 "cells": [
  {
   "cell_type": "markdown",
   "metadata": {},
   "source": [
    "# Derivatives, Partial Derivatives and Gradient Descent"
   ]
  },
  {
   "cell_type": "markdown",
   "metadata": {},
   "source": [
    "## Learning Objectives\n",
    "\n",
    "By the end of this session you should be able to...\n",
    "\n",
    "1. Compute the derivative of a function of one variable\n",
    "2. Compute the partial derivatives of a function of many variables \n",
    "3. Use the method of gradient descent to find the minimum of a function of one variable"
   ]
  },
  {
   "cell_type": "markdown",
   "metadata": {},
   "source": [
    "## Motivation: Why are derivatives, partial derivatives and the method of gradient descent important? What do these things have to do with Data Science?\n",
    "Derivatives and partial derivatives are used to implement the method of gradient descent. <br>\n",
    "Gradient Descent is \n",
    "* A method for finding the minimum of a function \n",
    "* Used to train logistic regression and other models in machine learning\n",
    "* The key to training deep learning models, i.e. neural networks.\n",
    "\n",
    "\n",
    "## 1. Introduction to Derivatives\n",
    "\n",
    "The process of finding a derivative is called **Differentiation**, which is a technique used to calculate the *slope* of the *tangent line* of a function $y = f(x)$ at any point $x$. The derivative tells us how rapidly, and in what direction $y$ changes with respect to $x$\n",
    "\n",
    "### 1A. Activity - Derivative Tutorial:\n",
    "\n",
    "1. Go through this [Derivative tutorial from Math Is Fun](https://www.mathsisfun.com/calculus/derivatives-introduction.html) (15 min)\n",
    "1. When you're done, talk with a partner about topics you still have questions on. See if you can answer each other's questions. (5 min)\n",
    "1. We'll then go over questions on the tutorial as a class (10 min)\n",
    "\n",
    "### 1B. Review Diagram\n",
    "\n",
    "Review the below diagram as a class, and compare with what you just learned in the above `Derivative Tutorial`.\n",
    "\n",
    "<img src=\"diff_y_x2.png\" width=\"1200\" height=\"1200\">\n",
    "<img src=\"diff_y_x2_gragh.png\" width=\"1200\" height=\"1200\">"
   ]
  },
  {
   "cell_type": "markdown",
   "metadata": {},
   "source": [
    "## 2. The Derivative Formula\n",
    "\n",
    "$f^\\prime(x) \\equiv \\frac{d}{dx}f(x) \\equiv \\frac{\\Delta y}{\\Delta x}  = \\frac{f(x + \\Delta x) - f(x)}{\\Delta x}$\n",
    "\n",
    "The symbol $\\equiv$ is read as \"is defined as\".\n",
    "\n",
    "The above formula is meant to be evaluated in the limit as $\\Delta x$ approaches 0. <br>\n",
    "So we should choose a very small number for $\\Delta x$, say 1.e-10"
   ]
  },
  {
   "cell_type": "markdown",
   "metadata": {},
   "source": [
    "### 2A. Activity: Write a Python function to compute the gradient of any one-dimensional function\n",
    "\n",
    "* NOTE: for one dimensional function, the *gradient* is the same thing as the *derivative*<br>\n",
    "* Use the derivative formula, above <br>\n",
    "* Use your function to evaluate the gradient of $f(x)=x^2$at $x = 3$ and $x = -2$ "
   ]
  },
  {
   "cell_type": "code",
   "execution_count": 1,
   "metadata": {},
   "outputs": [
    {
     "name": "stdout",
     "output_type": "stream",
     "text": [
      "Gradient at x = 3 is 6.0\n",
      "Gradient at x = -2 is -4.0\n"
     ]
    }
   ],
   "source": [
    "# define function we want to compute the gradient of\n",
    "def f(x):\n",
    "    return x**2\n",
    "\n",
    "# function that computes the gradient of a one dimensional function, evaluated at a given position\n",
    "def gradient(func,x):\n",
    "    '''Inputs: \n",
    "            func, the function to take the derivative of\n",
    "            x, the position (value of x) where the derivative is to be evaluated\n",
    "        Output:\n",
    "            the gradient of func(x) evaluated at position x\n",
    "       \n",
    "    '''\n",
    "    delta_x = 1e-6\n",
    "    return (f(x + delta_x) - f(x)) / delta_x\n",
    "\n",
    "x = 3\n",
    "print(f'Gradient at x = {x} is {gradient(func=f,x=x):.3}')\n",
    "x = -2\n",
    "print(f'Gradient at x = {x} is {gradient(func=f,x=x):.3}')"
   ]
  },
  {
   "cell_type": "markdown",
   "metadata": {},
   "source": [
    "Note that these values match the derivative that we compute from the calculus formula $\\frac{d}{dx}x^n = nx^{n-1}$, \n",
    "which is $\\frac{d}{dx}x^2 = 2x^{2-1} = 2x^1 = 2x$ \n",
    "\n",
    "$2*3 = 6$\n",
    "\n",
    "$2 * -2 = -4$"
   ]
  },
  {
   "cell_type": "markdown",
   "metadata": {},
   "source": [
    "### 2B. Table of Derivatives of Common Functions\n",
    "\n",
    "Computing derivatives of more complicated functions than $x^n$ is a source of much toil and busy work (not necessarily a bad thing) in introductory calculus classes. But now that you understand what a derivative is, it's not cheating to take a shortcut! The second page of this PDF lists formulas for derivatives of common functions. The first page summarizes the rules for computing derivatives. Utilize as a resource going forward!\n",
    "\n",
    "- https://www.qc.edu.hk/math/Resource/AL/Derivative%20Table.pdf"
   ]
  },
  {
   "cell_type": "markdown",
   "metadata": {},
   "source": [
    "## 3. Partial Derivatives of Functions of Two or More Variables"
   ]
  },
  {
   "cell_type": "markdown",
   "metadata": {},
   "source": [
    "Now we know how to calculate a derivative for a function of one variable. But what if we have a function of $N$ variables where $N>1$?\n",
    "\n",
    "We calculate the *partial derivatives* of the function.\n",
    "Calculating the partial derivatives for a function of $N$ variables consists of calculating $N$ ordinary derivatives: one for each variable, where the other variables are held constant.\n",
    "\n",
    "### 3A. Activity - Partial Derivative Video\n",
    "\n",
    "Let's watch this video introduction to Partial Derivatives from **Khan Academy**: https://youtu.be/AXqhWeUEtQU\n",
    "\n",
    "**Note:** Here are some derivative shortcuts that will help in the video:\n",
    "\n",
    "$\\frac{d}{dx}x^2 = 2x$\n",
    "\n",
    "$\\frac{d}{x}sin(x) = cos(x)$\n",
    "\n",
    "$\\frac{d}{dx}x = 1$\n",
    "\n"
   ]
  },
  {
   "cell_type": "markdown",
   "metadata": {},
   "source": [
    "### 3B. The Symbolic Python library `sympy` computes derivatives and partial derivatives of functions\n",
    "You can install this library from the command line via `conda install sympy` in an Anaconda shell."
   ]
  },
  {
   "cell_type": "code",
   "execution_count": 2,
   "metadata": {},
   "outputs": [
    {
     "name": "stdout",
     "output_type": "stream",
     "text": [
      "The partial derivative of f(x,y) w.r.t. (with respect to) x is 2*x/y\n",
      "The partial derivative of f(x,y) w.r.t. x is -x**2/y**2\n",
      "The partial derivative of f(x,y) w.r.t. x evaluated at the point (2,1) is 4.0\n",
      "The partial derivative of f(x,y) w.r.t. y evaluated at the point (2,1) is -4.0\n"
     ]
    }
   ],
   "source": [
    "from sympy import symbols, diff\n",
    "# initialize x and y to be symbols to use in a function\n",
    "x, y = symbols('x y', real=True)\n",
    "f = (x**2)/y\n",
    "# Find the partial derivatives of x and y\n",
    "partial_fx = diff(f, x, evaluate=True) # partial derivative of f(x,y) with respect to x\n",
    "partial_fy = diff(f, y, evaluate=True) # partial derivative of f(x,y) with respect to y\n",
    "print(f'The partial derivative of f(x,y) w.r.t. (with respect to) x is {partial_fx}')\n",
    "print(f'The partial derivative of f(x,y) w.r.t. x is {partial_fy}')\n",
    "print(f'The partial derivative of f(x,y) w.r.t. x evaluated at the point (2,1) is {partial_fx.evalf(subs={x: 2, y: 1}):.2}')\n",
    "print(f'The partial derivative of f(x,y) w.r.t. y evaluated at the point (2,1) is {partial_fy.evalf(subs={x: 2, y: 1}):.2}')"
   ]
  },
  {
   "cell_type": "markdown",
   "metadata": {},
   "source": [
    "## 4. Calculating a Function's Partial Derivatives and Gradient"
   ]
  },
  {
   "cell_type": "markdown",
   "metadata": {},
   "source": [
    "### 4A. Example: calculate the partial derivatives for a function of two variables"
   ]
  },
  {
   "cell_type": "code",
   "execution_count": 3,
   "metadata": {},
   "outputs": [
    {
     "name": "stdout",
     "output_type": "stream",
     "text": [
      "4.0000010006480125\n",
      "-3.9999959997594203\n"
     ]
    }
   ],
   "source": [
    "def f(x, y):\n",
    "    return x**2/y\n",
    "\n",
    "eps = 1e-6\n",
    "x = 2\n",
    "y = 1\n",
    "print((f(x + eps, y) - f(x, y)) / eps)\n",
    "print((f(x, y + eps) - f(x, y)) / eps)"
   ]
  },
  {
   "cell_type": "code",
   "execution_count": null,
   "metadata": {},
   "outputs": [],
   "source": [
    "gradient of f(x,y) = x**2/y  is gradient(f(x,y))= (2*x/y, -x**2/y**2)"
   ]
  },
  {
   "cell_type": "code",
   "execution_count": null,
   "metadata": {},
   "outputs": [],
   "source": [
    "partial derivative of f(x,y) w.r.t y is x**2*(derivative of (1/y) w.r.t. y)\n",
    "d/dy (y**n) = n*y**(n-1) \n",
    "\n",
    "derivative of y**-1 w.r.t. y\n",
    "\n",
    "-1*y**(-2) = -1/y**2\n",
    "\n",
    "\n"
   ]
  },
  {
   "cell_type": "markdown",
   "metadata": {},
   "source": [
    "Looks about right! This works rather well, but it is just an approximation. Also, you need to call `f()` at least once per parameter (not twice, since we could compute `f(x, y)` just once). This makes this approach difficult to control for large systems (for example neural networks)."
   ]
  },
  {
   "cell_type": "markdown",
   "metadata": {},
   "source": [
    "### 4B. Activity: compute the gradient of a function of two variables \n",
    "Write a Python function that computes the *gradient* of any *two-dimensional* function $f(x,y)$ by **completing the code in the block below** <br>\n",
    "Hint: Refer to material in 4A above\n",
    "\n",
    "* The *gradient* of a function is the vector composed of all the function's *partial derivatives*<br>\n",
    "* The gradient operation is denoted by the `nabla` symbol $\\nabla$ <br>\n",
    "* `nabla` is read as \"gradient of\"\n",
    "* The *gradient* of a two-dimensional function is thus\n",
    "    $\\nabla f(x,y) = \\left(\\frac {\\partial{f(x,y)}}{\\partial{x}}, \\frac{\\partial{f(x,y)}}{\\partial{y}}\\right)$\n",
    "* Your `gradient()` function should calculate partial derivatives using the derivative formula from section **2**<br>\n",
    "* Use your `gradient()` function to evaluate the gradient of the function $f(x, y) = \\frac{x^2}{y}$ at the point $(2,1)$"
   ]
  },
  {
   "cell_type": "code",
<<<<<<< HEAD
   "execution_count": 14,
=======
   "execution_count": 38,
>>>>>>> 3f88bbfe7185b7a4d8e6b4d3fd46c6e4257e502a
   "metadata": {},
   "outputs": [
    {
     "name": "stdout",
     "output_type": "stream",
     "text": [
<<<<<<< HEAD
      "The gradient of f(x,y) = x**2/y at the point (2,1) is (36.000002978653356, -24.000001985768904)\n"
=======
      "The gradient of f(x,y) = 3*x**3/y + x*y**2 at the point (2,1) is [ 37.00002082 -20.00000165]]\n"
>>>>>>> 3f88bbfe7185b7a4d8e6b4d3fd46c6e4257e502a
     ]
    }
   ],
   "source": [
<<<<<<< HEAD
    "# define the 2-dimensional function for which you want to compute the gradient\n",
    "import numpy as np \n",
    "\n",
    "def f_xy(x,y):\n",
    "    ''' Calculates Derivative of x with respect to y'''\n",
    "    return 3*x**3/y-1\n",
=======
    "# define some 2-dimensional function for which you want to compute the gradient\n",
    "import numpy as np\n",
    "def f_xy(x,y):\n",
    "    return 3*x**3/y + x*y**2\n",
>>>>>>> 3f88bbfe7185b7a4d8e6b4d3fd46c6e4257e502a
    "\n",
    "# function to compute gradient of any two-dimensional function\n",
    "def gradient(func, x, y):\n",
    "    '''\n",
    "    inputs: \n",
    "        func: a continuous function of two variables\n",
    "        x, y: the values of the two variables at the point \n",
    "            where the gradient is to be computed\n",
    "    outputs:\n",
    "        partial_x, partial_y: the partial derivatives of the input function, \n",
    "            evaluated at specified point (x,y)\n",
    "        \n",
    "    '''\n",
<<<<<<< HEAD
    "    delta_x = 1.e-10 # very small number \n",
    "    delta_y = 1.e-10 # very smalle number \n",
    "    \n",
    "\n",
    "\n",
    "    partial_x = (func(x + delta_x, y) - func(x, y)) / delta_x # partial derivative x \n",
    "    partial_y = (func(x, y + delta_y) - func(x, y)) / delta_y # partial derivative y\n",
    "    \n",
    "    # arrange as a vector\n",
    "    grad = np.array([partial_x, partial_y])\n",
=======
    "    delta_x = 1.e-10\n",
    "    delta_y = 1.e-10\n",
    "    \n",
>>>>>>> 3f88bbfe7185b7a4d8e6b4d3fd46c6e4257e502a
    "    \n",
    "    # compute partial derivatives\n",
    "    partial_x = (func(x + delta_x, y) - func(x, y)) / delta_x # your code here\n",
    "    partial_y = (func(x, y + delta_y) - func(x, y)) / delta_y # your code here\n",
    "    \n",
    "    # arrange them as a 2-D vector\n",
    "    grad = np.array([partial_x, partial_y])\n",
    "    \n",
    "    return grad\n",
    "\n",
    "# output\n",
    "nums = gradient(func=f_xy, x=2, y=1)\n",
    "print(f'The gradient of f(x,y) = 3*x**3/y + x*y**2 at the point (2,1) is {nums}]')"
   ]
  },
  {
   "cell_type": "markdown",
   "metadata": {},
   "source": [
    "## 5. The Heart of the Matter: the Method of Gradient Descent\n",
    "\n",
    "In many machine learning and deep learning applications, we need to find the minimum of a \"cost function\" (sometimes also called an \"error function\" or a \"loss function\").\n",
    "Whatever we want to call it, the cost function measures the error of a model on some training data when we compare the predicted *targets* against the true *targets*.\n",
    "\n",
    "The *targets* are what the model is trying to predict. Examples are **numbers** -- like housing prices, or **class labels** -- like \"dog\", \"cat\" or \"mouse\") \n",
    "\n",
    "Why do we want to find the minimum for a cost function? Given that a cost function measures how wrong our model is, we want to minimize that error!\n",
    "\n",
    "In Machine Learning cost functions measure how badly our models are performing. We want to adjust the parameters of the model (also known as **weights**) to minimize our cost function, therefore minimizing error of the model!\n",
    "\n",
    "We find find the optimal weights that minimize the cost function by using the **Method of Gradient Descent**. The Method of Gradient Descent repeatedly makes small adjustments to the weights that make the cost function smaller, until the cost function reaches a minimum. We'll learn more about models in future lessons, but for now, let's review the Gradient Descent process with the below images, given a cost function $J(w_0,w_1)$ that is a function of weights $w_0$ and $w_1$:\n",
    "\n",
    "<img src=\"gradient_descent.png\" width=\"2000\" height=\"2000\">\n",
    "\n",
    "Look at that bottom right image above. Looks like we're using partial derivatives to determine the optimal values of the weights $w_0$ and $w_1$ that minimize the cost function $J(w_0,w_1)$. And we know exactly how to do that!"
   ]
  },
  {
   "cell_type": "markdown",
   "metadata": {},
   "source": [
    "### 5A. Finding the minimum of a function via Gradient Descent\n",
    "\n",
    "Assume we want to minimize the function $J$ which has two weights $w_0$ and $w_1$\n",
    "\n",
    "We have two options to find the minimum of $J(w_0, w_1)$:\n",
    "\n",
    "1. Take partial derivatives of $J(w_0, w_1)$ with relation to $w_0$ and $w_1$:\n",
    "\n",
    "$\\frac{\\partial J(w_0, w_1)}{\\partial w_0}$\n",
    "\n",
    "$\\frac{\\partial J(w_0, w_1)}{\\partial w_1}$\n",
    "\n",
    "And find the appropriate weights such that the partial derivatives equal 0:\n",
    "\n",
    "$\\frac{\\partial J(w_0, w_1)}{\\partial w_0} = 0$\n",
    "\n",
    "$\\frac{\\partial J(w_0, w_1)}{\\partial w_1} = 0$\n",
    "\n",
    "In this approach we would solve the resulting system of linear or non-linear equations.\n",
    "\n",
    "2. Use the Gradient Descent algorithm:\n",
    "\n",
    "First we need to define three things:\n",
    "\n",
    "- Arbitrary random initial values for $w_0$ and $w_1$.\n",
    "- A step-size alpha ($\\alpha$) -- also called the *learning rate*, a small number like $1.e-5$\n",
    "- A *threshold* for the weight updates\n",
    "\n",
    "Next we search for the optimal values of the weights $w_0$ and $w_1$ by using a loop to repeatedly update the weights until we minimize the cost function. We terminate the loop when the weight updates become negligibly small, i.e. below the threshold that we set. For example, if we adopt a threshold of 0.0001 and the weight updates -- the changes in the weight parameters from one iteration to the next -- are both less than 0.0001, then we stop the loop and declare victory, i.e. that we have found optimal values of the weights that (approximately) minimize the loss function!\n",
    "\n",
    "Let's review some pseudocode for how to implement this algorithm:\n",
    "\n",
    "```\n",
    "# initialization\n",
    "initialize the following:\n",
    "    - starting weight values -- an initial guess, could be random\n",
    "    - the learning rate (alpha), a small positive number (we'll choose 1.e-5)\n",
    "    - the current weight update -- initialize to 1\n",
    "    - the threshold -- set this to 1.e-4\n",
    "\n",
    "# weight update loop\n",
    "while the weight update is greater than the threshold:\n",
    "    adjust the weights by adding the weight updates based on the algorithm\n",
    "    \n",
    "# return the final values of the weights\n",
    "```\n",
    "\n",
    "How do we compute the `weight updates based on the algorithm`?\n",
    "The updates are the second term on the right hand side of the equations below: they are proportional to the partial derivatives and in the opposite direction.\n",
    "    \n",
    "$w_0 = w_0 - \\alpha \\frac{\\partial J(w_0, w_1)}{\\partial w_0}$\n",
    "        \n",
    "$w_1 = w_1 - \\alpha \\frac{\\partial J(w_0, w_1)}{\\partial w_1}$"
   ]
  },
  {
   "cell_type": "markdown",
   "metadata": {},
   "source": [
    "### 5B. Gradient descent in one dimension"
   ]
  },
  {
   "cell_type": "markdown",
   "metadata": {},
   "source": [
    "#### Let's define an interesting function of one variable to minimize: <br> \n",
    "$f(x) = \\frac{x^4}{50} - 2x^2 + x + 1$\n",
    "#### We can compute the derivative of this function using the formula from calculus <br>\n",
    "$\\frac{d}{dx}(x^n) = nx^{n-1}$ <br>\n",
    "\n",
    "So that <br>\n",
    "$f^{'}(x) = \\frac{4}{50}x^3 - 4x + 1$ "
   ]
  },
  {
   "cell_type": "code",
<<<<<<< HEAD
   "execution_count": 4,
=======
   "execution_count": 9,
>>>>>>> 3f88bbfe7185b7a4d8e6b4d3fd46c6e4257e502a
   "metadata": {},
   "outputs": [
    {
     "data": {
      "image/png": "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\n",
      "text/plain": [
       "<Figure size 720x576 with 1 Axes>"
      ]
     },
     "metadata": {
      "needs_background": "light"
     },
     "output_type": "display_data"
    }
   ],
   "source": [
    "import matplotlib.pyplot as plt\n",
    "import numpy as np\n",
    "np.random.seed(42)\n",
    "eps = 1.e-10\n",
    "\n",
    "# define an interesting function to minimize\n",
    "x = np.linspace(-10,10, 100)\n",
    "fx =lambda x: (1/50)*x**4 - 2*x**2 + x + 1\n",
    "\n",
    "# compute derivative of x by applying the calculus formula d/dx(x**n) = n*x**(n-1)\n",
    "df_dx = lambda x: (4/50)*x**3 - 4*x + 1\n",
    "\n",
    "# plot the function, and its derivative\n",
    "plt.figure(figsize=(10,8))\n",
    "plt.plot(x,fx(x),label = 'function f(x)')\n",
    "plt.plot(x,df_dx(x),'r--',label = 'derivative df/dx')\n",
    "plt.xlabel('$x$',FontSize=18)\n",
    "plt.ylabel('$f(x)$, $f\\'(x)$',FontSize=18)\n",
    "plt.title('The function $f(x)$ and its derivative $f\\'(x)$', FontSize=18)\n",
    "\n",
    "plt.legend(prop={'size': 18})\n",
    "plt.grid()"
   ]
  },
  {
   "cell_type": "markdown",
   "metadata": {},
   "source": [
    "#### Rewrite our `gradient()` function from section 2, above for one-dimensional functions"
   ]
  },
  {
   "cell_type": "code",
<<<<<<< HEAD
   "execution_count": 15,
=======
   "execution_count": 10,
>>>>>>> 3f88bbfe7185b7a4d8e6b4d3fd46c6e4257e502a
   "metadata": {},
   "outputs": [],
   "source": [
    "def gradient(func,x):\n",
    "    ''' The gradient of a one-dimensional function is just the derivative'''\n",
    "    delta_x = 1.e-10\n",
    "    return (func(x + delta_x) - func(x))/delta_x"
   ]
  },
  {
   "cell_type": "markdown",
   "metadata": {},
   "source": [
    "#### Test the `gradient` code by choosing a few x values and check that the answers make sense"
   ]
  },
  {
   "cell_type": "code",
<<<<<<< HEAD
   "execution_count": 6,
=======
   "execution_count": 11,
>>>>>>> 3f88bbfe7185b7a4d8e6b4d3fd46c6e4257e502a
   "metadata": {},
   "outputs": [
    {
     "name": "stdout",
     "output_type": "stream",
     "text": [
      "The gradient of f(x) at x = -10 is -39.0\n"
     ]
    }
   ],
   "source": [
    "x = -10\n",
    "print(f'The gradient of f(x) at x = {x} is {gradient(func=fx,x=-10):.3}')"
   ]
  },
  {
   "cell_type": "markdown",
   "metadata": {},
   "source": [
    "####  Write a `gradient descent` function for a function of one variable\n",
    "Follow the pseudo-code in section **5A** "
   ]
  },
  {
   "cell_type": "code",
<<<<<<< HEAD
   "execution_count": 7,
=======
   "execution_count": 12,
>>>>>>> 3f88bbfe7185b7a4d8e6b4d3fd46c6e4257e502a
   "metadata": {},
   "outputs": [],
   "source": [
    "def gradient_descent(func,x_init):\n",
    "    \n",
    "    '''\n",
    "    Inputs:\n",
    "        func: a function of one variable\n",
    "        x_init: the starting value of the variable\n",
    "    Outputs: \n",
    "        x: the value of the variable at which func reached a minimum\n",
    "        n_iter: the number of iterations of the weight update loop \n",
    "            before it was terminated\n",
    "        x_values: the list of updated weights\n",
    "        '''\n",
    "    \n",
    "    # Initialize\n",
    "    alpha = 1.e-4\n",
    "    threshold = 1.e-4\n",
    "    delta_x = 1.\n",
    "    x = x_init\n",
    "    n_iter = 0\n",
    "    x_values = []\n",
    "    \n",
    "    # run the weight update loop until it terminates\n",
    "    while np.abs(delta_x) > threshold: #and n_iter < max_iter:\n",
    "        \n",
    "        # compute the derivative of the function\n",
    "        df_dx = gradient(func,x)\n",
    "        # compute the weight update\n",
    "        delta_x = -alpha*df_dx\n",
    "        # apply the weight update\n",
    "        x = x + delta_x\n",
    "        # append to the running list of updated weights\n",
    "        x_values.append(x)\n",
    "        # increment the iteration count\n",
    "        n_iter+=1\n",
    "        \n",
    "    return x, n_iter, x_values "
   ]
  },
  {
   "cell_type": "markdown",
   "metadata": {},
   "source": [
    "#### Minimize the function $f(x) = \\frac{x^4}{50} - 2x^2 + x + 1$\n",
    "Choose an initial value for $x$ <br>\n",
    "Then run your `gradient_descent` code to to find the value of $x$ that minimizes the function."
   ]
  },
  {
   "cell_type": "code",
<<<<<<< HEAD
   "execution_count": 8,
=======
   "execution_count": 13,
>>>>>>> 3f88bbfe7185b7a4d8e6b4d3fd46c6e4257e502a
   "metadata": {},
   "outputs": [
    {
     "name": "stdout",
     "output_type": "stream",
     "text": [
      "Starting at the point x = 2.5, \n",
      "    we found that the function reaches a minimum at x_star = 6.81 \n",
      "    after 6853 iterations\n"
     ]
    }
   ],
   "source": [
    "# choose a starting point -- could be random\n",
    "# np.random.seed(42)\n",
    "# x_init = np.random.uniform(-10,10,1) \n",
    "x_init = 2.5\n",
    "x_star, n_iter, x_values = gradient_descent(func=fx,x_init=x_init) \n",
    "print(f'Starting at the point x = {x_init}, \\n    \\\n",
    "we found that the function reaches a minimum at x_star = \\\n",
    "{x_star:.3} \\n    after {n_iter} iterations')"
   ]
  },
  {
   "cell_type": "markdown",
   "metadata": {},
   "source": [
    "#### Check that the derivative is reasonably close to zero when evaluated at the `x_star` found by your `gradient_descent` function\n",
    "Remember that the derivative ranges between $[-40,+40]$ according to the above graph."
   ]
  },
  {
   "cell_type": "code",
   "execution_count": 17,
   "metadata": {},
   "outputs": [
    {
     "name": "stdout",
     "output_type": "stream",
     "text": [
      "Derivative from the calculus formula is -0.9987282580894323\n",
      "Derivative from the definition is  -0.9987388693843968\n"
     ]
    }
   ],
   "source": [
    "# derivative, from calculus formula\n",
    "print(f'Derivative from the calculus formula is {df_dx(x_star)}')\n",
    "\n",
    "# derivative, from definition\n",
    "print(f'Derivative from the definition is  {gradient(func=fx,x=x_star)}')"
   ]
  },
  {
   "cell_type": "markdown",
   "metadata": {},
   "source": [
    "#### Visualize how gradient descent finds the minimum of the function"
   ]
  },
  {
   "cell_type": "code",
   "execution_count": 18,
   "metadata": {},
   "outputs": [
    {
     "data": {
      "image/png": "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\n",
      "text/plain": [
       "<Figure size 864x576 with 1 Axes>"
      ]
     },
     "metadata": {
      "needs_background": "light"
     },
     "output_type": "display_data"
    }
   ],
   "source": [
    "x_values = np.array(x_values)\n",
    "x = np.linspace(-10,10, 100)\n",
    "\n",
    "plt.figure(figsize=(12,8))\n",
    "plt.plot(x,fx(x),'b-',label = 'function f(x)')\n",
    "plt.plot(np.array(x_values),fx(x_values),'m.',markersize = 10, label='gradient descent updates')\n",
    "plt.plot(x_init,fx(x_init),'k.',markersize = 20, label = '$x_{init}$, starting point')\n",
    "plt.plot(x_star,fx(x_star),'k*',markersize = 20, label = '$x_{star}$, minimum of the function',)\n",
    "plt.xlabel('x',FontSize = 18)\n",
    "plt.ylabel('f(x)',FontSize = 18)\n",
    "plt.title('Minimizing a function via gradient descent',FontSize = 18)\n",
    "plt.grid()\n",
    "plt.legend(loc='best',prop={'size': 18});"
   ]
  },
  {
   "cell_type": "markdown",
   "metadata": {},
   "source": [
    "### 5C. Activity: \n",
    "In the above section, our `gradient_descent()` function required over 6000 iterations (steps) to find the minimum of the input function.\n",
    "See if you can tune the value(s) of the *hyperparameters* $alpha$ and $threshhold$ in the `gradient_descent()` code to get reasonably close to the same value of $x_{star}$ in fewer steps (iterations). How small can you make the number of steps and still get close to the same answer?"
   ]
  },
  {
   "cell_type": "markdown",
   "metadata": {},
   "source": [
    "## Resources\n",
    "\n",
    "- [Derivative tutorial from Math Is Fun](https://www.mathsisfun.com/calculus/derivatives-introduction.html) \n",
    "- [Derivative Table](https://www.qc.edu.hk/math/Resource/AL/Derivative%20Table.pdf)\n",
    "- [Khan Academy - Partial Derivatives video](https://www.youtube.com/watch?v=AXqhWeUEtQU&feature=youtu.be)\n",
    "- [Towards Data Science - Machine Learning Fundamentals: cost functions and gradient Descent](https://towardsdatascience.com/machine-learning-fundamentals-via-linear-regression-41a5d11f5220)"
   ]
  },
  {
   "cell_type": "code",
   "execution_count": null,
   "metadata": {},
   "outputs": [],
   "source": []
  }
 ],
 "metadata": {
  "kernelspec": {
   "display_name": "Python 3",
   "language": "python",
   "name": "python3"
  },
  "language_info": {
   "codemirror_mode": {
    "name": "ipython",
    "version": 3
   },
   "file_extension": ".py",
   "mimetype": "text/x-python",
   "name": "python",
   "nbconvert_exporter": "python",
   "pygments_lexer": "ipython3",
   "version": "3.8.3"
  }
 },
 "nbformat": 4,
 "nbformat_minor": 2
}
