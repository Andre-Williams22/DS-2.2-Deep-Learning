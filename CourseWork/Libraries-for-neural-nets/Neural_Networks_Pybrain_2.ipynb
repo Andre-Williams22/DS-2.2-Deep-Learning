{
  "nbformat": 4,
  "nbformat_minor": 0,
  "metadata": {
    "colab": {
      "name": "Neural Networks - Pybrain 2.ipynb",
      "provenance": [],
      "collapsed_sections": [],
      "include_colab_link": true
    },
    "kernelspec": {
      "name": "python3",
      "display_name": "Python 3"
    }
  },
  "cells": [
    {
      "cell_type": "markdown",
      "metadata": {
        "id": "view-in-github",
        "colab_type": "text"
      },
      "source": [
        "<a href=\"https://colab.research.google.com/github/Andre-Williams22/DS-2.2-Deep-Learning/blob/master/CourseWork/Libraries-for-neural-nets/Neural_Networks_Pybrain_2.ipynb\" target=\"_parent\"><img src=\"https://colab.research.google.com/assets/colab-badge.svg\" alt=\"Open In Colab\"/></a>"
      ]
    },
    {
      "cell_type": "markdown",
      "metadata": {
        "id": "ZjL4mldO_t43"
      },
      "source": [
        "# Libraries for Neural Networks - Pybrain 2"
      ]
    },
    {
      "cell_type": "code",
      "metadata": {
        "id": "QggR_r8VWku0",
        "outputId": "c4cc0417-e396-4100-8ef5-82253d1441c0",
        "colab": {
          "base_uri": "https://localhost:8080/"
        }
      },
      "source": [
        "!pip install https://github.com/pybrain/pybrain/archive/0.3.3.zip"
      ],
      "execution_count": 1,
      "outputs": [
        {
          "output_type": "stream",
          "text": [
            "Collecting https://github.com/pybrain/pybrain/archive/0.3.3.zip\n",
            "\u001b[?25l  Downloading https://github.com/pybrain/pybrain/archive/0.3.3.zip\n",
            "\u001b[K     - 4.2MB 6.3MB/s\n",
            "\u001b[?25hRequirement already satisfied: scipy in /usr/local/lib/python3.6/dist-packages (from PyBrain==0.3.1) (1.4.1)\n",
            "Requirement already satisfied: numpy>=1.13.3 in /usr/local/lib/python3.6/dist-packages (from scipy->PyBrain==0.3.1) (1.18.5)\n",
            "Building wheels for collected packages: PyBrain\n",
            "  Building wheel for PyBrain (setup.py) ... \u001b[?25l\u001b[?25hdone\n",
            "  Created wheel for PyBrain: filename=PyBrain-0.3.1-cp36-none-any.whl size=468232 sha256=e5c4433a138ddbed0e0364b3d4941a4d969609a55957d919810cb23ab66bbb3d\n",
            "  Stored in directory: /tmp/pip-ephem-wheel-cache-dd41i0b7/wheels/0b/04/38/2f174aa3c578350870947ca6ab12e0eb89aef3478c9610eb0a\n",
            "Successfully built PyBrain\n",
            "Installing collected packages: PyBrain\n",
            "Successfully installed PyBrain-0.3.1\n"
          ],
          "name": "stdout"
        }
      ]
    },
    {
      "cell_type": "code",
      "metadata": {
        "id": "isKu26S0BsSK"
      },
      "source": [
        "import pybrain"
      ],
      "execution_count": 3,
      "outputs": []
    },
    {
      "cell_type": "code",
      "metadata": {
        "id": "dsPx32vBgHZi"
      },
      "source": [
        "from pybrain.tools.shortcuts import buildNetwork\n",
        "from pybrain.datasets import SupervisedDataSet\n",
        "from pybrain.supervised import BackpropTrainer\n",
        "from pybrain.structure.modules import SigmoidLayer"
      ],
      "execution_count": 4,
      "outputs": []
    },
    {
      "cell_type": "code",
      "metadata": {
        "id": "vLeQDaZNg1IJ"
      },
      "source": [
        "network = buildNetwork(2, 3, 1, outclass = SigmoidLayer, hiddenclass = SigmoidLayer, bias = False)"
      ],
      "execution_count": 5,
      "outputs": []
    },
    {
      "cell_type": "code",
      "metadata": {
        "id": "30JNdjDihH60",
        "outputId": "a6409605-2e57-4b48-890f-4f07a1cfa46f",
        "colab": {
          "base_uri": "https://localhost:8080/"
        }
      },
      "source": [
        "network"
      ],
      "execution_count": 6,
      "outputs": [
        {
          "output_type": "execute_result",
          "data": {
            "text/plain": [
              "<FeedForwardNetwork 'FeedForwardNetwork-5'>"
            ]
          },
          "metadata": {
            "tags": []
          },
          "execution_count": 6
        }
      ]
    },
    {
      "cell_type": "code",
      "metadata": {
        "id": "q3OYu-qehT50",
        "outputId": "97b9fba0-1f58-4b0d-9cb0-99e82cfea76d",
        "colab": {
          "base_uri": "https://localhost:8080/"
        }
      },
      "source": [
        "network['in']"
      ],
      "execution_count": 7,
      "outputs": [
        {
          "output_type": "execute_result",
          "data": {
            "text/plain": [
              "<LinearLayer 'in'>"
            ]
          },
          "metadata": {
            "tags": []
          },
          "execution_count": 7
        }
      ]
    },
    {
      "cell_type": "code",
      "metadata": {
        "id": "NE12WNP5hehk",
        "outputId": "f7f11d3b-7638-491e-fb1c-6a3f6bea4dc0",
        "colab": {
          "base_uri": "https://localhost:8080/"
        }
      },
      "source": [
        "network['hidden0']"
      ],
      "execution_count": 8,
      "outputs": [
        {
          "output_type": "execute_result",
          "data": {
            "text/plain": [
              "<SigmoidLayer 'hidden0'>"
            ]
          },
          "metadata": {
            "tags": []
          },
          "execution_count": 8
        }
      ]
    },
    {
      "cell_type": "code",
      "metadata": {
        "id": "dVwp23G1hojZ",
        "outputId": "e6ddffe4-5708-41e2-8c5e-3348d3466a74",
        "colab": {
          "base_uri": "https://localhost:8080/"
        }
      },
      "source": [
        "network['out']"
      ],
      "execution_count": 9,
      "outputs": [
        {
          "output_type": "execute_result",
          "data": {
            "text/plain": [
              "<SigmoidLayer 'out'>"
            ]
          },
          "metadata": {
            "tags": []
          },
          "execution_count": 9
        }
      ]
    },
    {
      "cell_type": "code",
      "metadata": {
        "id": "pNhkxlQ7hxf1"
      },
      "source": [
        "network['bias']"
      ],
      "execution_count": 10,
      "outputs": []
    },
    {
      "cell_type": "code",
      "metadata": {
        "id": "flIl95maidTS"
      },
      "source": [
        "dataset = SupervisedDataSet(2, 1)\n",
        "dataset.addSample((0,0), (0,))\n",
        "dataset.addSample((0,1), (1,))\n",
        "dataset.addSample((1,0), (1,))\n",
        "dataset.addSample((1,1), (0,))"
      ],
      "execution_count": 11,
      "outputs": []
    },
    {
      "cell_type": "code",
      "metadata": {
        "id": "buI96ok3i6BX",
        "outputId": "f279e22b-09fd-412c-aea4-68df99e6501f",
        "colab": {
          "base_uri": "https://localhost:8080/"
        }
      },
      "source": [
        "dataset['input']"
      ],
      "execution_count": 12,
      "outputs": [
        {
          "output_type": "execute_result",
          "data": {
            "text/plain": [
              "array([[0., 0.],\n",
              "       [0., 1.],\n",
              "       [1., 0.],\n",
              "       [1., 1.]])"
            ]
          },
          "metadata": {
            "tags": []
          },
          "execution_count": 12
        }
      ]
    },
    {
      "cell_type": "code",
      "metadata": {
        "id": "NwK36y6Ai9Cs",
        "outputId": "d8201519-f33a-452c-c4ed-3ee2c6f22f3a",
        "colab": {
          "base_uri": "https://localhost:8080/"
        }
      },
      "source": [
        "dataset['target']"
      ],
      "execution_count": 13,
      "outputs": [
        {
          "output_type": "execute_result",
          "data": {
            "text/plain": [
              "array([[0.],\n",
              "       [1.],\n",
              "       [1.],\n",
              "       [0.]])"
            ]
          },
          "metadata": {
            "tags": []
          },
          "execution_count": 13
        }
      ]
    },
    {
      "cell_type": "markdown",
      "metadata": {
        "id": "9uYkWEas0AhQ"
      },
      "source": [
        "## Train Model "
      ]
    },
    {
      "cell_type": "code",
      "metadata": {
        "id": "NSWR6iOEjA2z"
      },
      "source": [
        "# need to update the weights\n",
        "optimizer = BackpropTrainer(module=network, dataset=dataset, learningrate=0.5)"
      ],
      "execution_count": 14,
      "outputs": []
    },
    {
      "cell_type": "code",
      "metadata": {
        "id": "WhlJpCCbjMfK",
        "outputId": "b22d828f-c42c-4aba-c7d9-de05cba78b5c",
        "colab": {
          "base_uri": "https://localhost:8080/"
        }
      },
      "source": [
        "epochs = 30000\n",
        "error = []\n",
        "for epoch in range(epochs):\n",
        "  error_average = optimizer.train()\n",
        "  if epoch % 1000 == 0:\n",
        "    print('Epoch: ' + str(epoch + 1) + ' Error: ' + str(error_average))\n",
        "    error.append(error_average)"
      ],
      "execution_count": 15,
      "outputs": [
        {
          "output_type": "stream",
          "text": [
            "Epoch: 1 Error: 0.12904250660461672\n",
            "Epoch: 1001 Error: 0.06867149671852292\n",
            "Epoch: 2001 Error: 0.036697534238717244\n",
            "Epoch: 3001 Error: 0.03372059040335695\n",
            "Epoch: 4001 Error: 0.03281954324345732\n",
            "Epoch: 5001 Error: 0.03239192867009836\n",
            "Epoch: 6001 Error: 0.03214396647348187\n",
            "Epoch: 7001 Error: 0.03198268720962037\n",
            "Epoch: 8001 Error: 0.03186965218657181\n",
            "Epoch: 9001 Error: 0.031786153714534096\n",
            "Epoch: 10001 Error: 0.03172201822436114\n",
            "Epoch: 11001 Error: 0.031671247720444565\n",
            "Epoch: 12001 Error: 0.03163008109674502\n",
            "Epoch: 13001 Error: 0.03159604253125007\n",
            "Epoch: 14001 Error: 0.031567436751427515\n",
            "Epoch: 15001 Error: 0.03154306459161187\n",
            "Epoch: 16001 Error: 0.03152205425509115\n",
            "Epoch: 17001 Error: 0.03150375696104672\n",
            "Epoch: 18001 Error: 0.031487680074602085\n",
            "Epoch: 19001 Error: 0.0314734428794725\n",
            "Epoch: 20001 Error: 0.03146074656303941\n",
            "Epoch: 21001 Error: 0.03144935335393487\n",
            "Epoch: 22001 Error: 0.03143907171747504\n",
            "Epoch: 23001 Error: 0.031429745644411554\n",
            "Epoch: 24001 Error: 0.031421246793113415\n",
            "Epoch: 25001 Error: 0.03141346861461288\n",
            "Epoch: 26001 Error: 0.031406321915274815\n",
            "Epoch: 27001 Error: 0.031399731456089354\n",
            "Epoch: 28001 Error: 0.031393633320393\n",
            "Epoch: 29001 Error: 0.0313879728514296\n"
          ],
          "name": "stdout"
        }
      ]
    },
    {
      "cell_type": "code",
      "metadata": {
        "id": "wWs0NoIXju6a",
        "outputId": "ee57893b-05ae-4167-f8ad-93ec905e0202",
        "colab": {
          "base_uri": "https://localhost:8080/",
          "height": 296
        }
      },
      "source": [
        "import matplotlib.pyplot as plt\n",
        "plt.xlabel('Epoch')\n",
        "plt.ylabel('Error')\n",
        "plt.plot(error)"
      ],
      "execution_count": 16,
      "outputs": [
        {
          "output_type": "execute_result",
          "data": {
            "text/plain": [
              "[<matplotlib.lines.Line2D at 0x7fbb60fb2ef0>]"
            ]
          },
          "metadata": {
            "tags": []
          },
          "execution_count": 16
        },
        {
          "output_type": "display_data",
          "data": {
            "image/png": "[encoded data removed]",
            "text/plain": [
              "<Figure size 432x288 with 1 Axes>"
            ]
          },
          "metadata": {
            "tags": [],
            "needs_background": "light"
          }
        }
      ]
    },
    {
      "cell_type": "code",
      "metadata": {
        "id": "2lAztDBOj-uY",
        "outputId": "981ef2b8-f568-4222-ea70-3385134b0c1d",
        "colab": {
          "base_uri": "https://localhost:8080/"
        }
      },
      "source": [
        "network.params"
      ],
      "execution_count": 17,
      "outputs": [
        {
          "output_type": "execute_result",
          "data": {
            "text/plain": [
              "array([  2.08721464, -10.85992741, -10.87114488,   2.09298356,\n",
              "        -5.83194106,  -5.51728853,   4.75683072,   4.77570888,\n",
              "       -17.63741021])"
            ]
          },
          "metadata": {
            "tags": []
          },
          "execution_count": 17
        }
      ]
    },
    {
      "cell_type": "markdown",
      "metadata": {
        "id": "wlmh_V6u1pGc"
      },
      "source": [
        "## Perform Classifications"
      ]
    },
    {
      "cell_type": "code",
      "metadata": {
        "id": "XYuPPC5ckPlS",
        "outputId": "f82ae8ea-646e-4139-fe68-be82b858ca26",
        "colab": {
          "base_uri": "https://localhost:8080/"
        }
      },
      "source": [
        "network.activate([0,0]) # expected is 0 "
      ],
      "execution_count": 18,
      "outputs": [
        {
          "output_type": "execute_result",
          "data": {
            "text/plain": [
              "array([0.01708309])"
            ]
          },
          "metadata": {
            "tags": []
          },
          "execution_count": 18
        }
      ]
    },
    {
      "cell_type": "code",
      "metadata": {
        "id": "aWWui9LqkYla",
        "outputId": "72f55cbf-6a9a-4719-99ad-7574eb1cec16",
        "colab": {
          "base_uri": "https://localhost:8080/"
        }
      },
      "source": [
        "network.activate([0,1]) # expect 1 "
      ],
      "execution_count": 19,
      "outputs": [
        {
          "output_type": "execute_result",
          "data": {
            "text/plain": [
              "array([0.98494623])"
            ]
          },
          "metadata": {
            "tags": []
          },
          "execution_count": 19
        }
      ]
    },
    {
      "cell_type": "code",
      "metadata": {
        "id": "iEoFyaLnkbVC",
        "outputId": "2a3657ff-ce13-4716-c0a0-89e9393cae40",
        "colab": {
          "base_uri": "https://localhost:8080/"
        }
      },
      "source": [
        "network.activate([1,0]) # expect 1 "
      ],
      "execution_count": 20,
      "outputs": [
        {
          "output_type": "execute_result",
          "data": {
            "text/plain": [
              "array([0.98493879])"
            ]
          },
          "metadata": {
            "tags": []
          },
          "execution_count": 20
        }
      ]
    },
    {
      "cell_type": "code",
      "metadata": {
        "id": "W-ZAV2Y9kgQw",
        "outputId": "8453ac0a-9d23-4802-ca60-bfe9cd80df16",
        "colab": {
          "base_uri": "https://localhost:8080/"
        }
      },
      "source": [
        "network.activate([1,1])"
      ],
      "execution_count": 21,
      "outputs": [
        {
          "output_type": "execute_result",
          "data": {
            "text/plain": [
              "array([0.50031616])"
            ]
          },
          "metadata": {
            "tags": []
          },
          "execution_count": 21
        }
      ]
    },
    {
      "cell_type": "code",
      "metadata": {
        "id": "XUKAD7lO1vHw"
      },
      "source": [
        ""
      ],
      "execution_count": null,
      "outputs": []
    }
  ]
}