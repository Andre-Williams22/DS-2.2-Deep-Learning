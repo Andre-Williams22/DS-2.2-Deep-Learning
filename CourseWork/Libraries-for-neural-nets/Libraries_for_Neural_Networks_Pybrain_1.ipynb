{
  "nbformat": 4,
  "nbformat_minor": 0,
  "metadata": {
    "colab": {
      "name": "Libraries for Neural Networks - Pybrain 1.ipynb",
      "provenance": [],
      "collapsed_sections": [],
      "include_colab_link": true
    },
    "kernelspec": {
      "name": "python3",
      "display_name": "Python 3"
    }
  },
  "cells": [
    {
      "cell_type": "markdown",
      "metadata": {
        "id": "view-in-github",
        "colab_type": "text"
      },
      "source": [
        "<a href=\"https://colab.research.google.com/github/Andre-Williams22/DS-2.2-Deep-Learning/blob/master/CourseWork/Libraries-for-neural-nets/Libraries_for_Neural_Networks_Pybrain_1.ipynb\" target=\"_parent\"><img src=\"https://colab.research.google.com/assets/colab-badge.svg\" alt=\"Open In Colab\"/></a>"
      ]
    },
    {
      "cell_type": "markdown",
      "metadata": {
        "id": "ZjL4mldO_t43"
      },
      "source": [
        "# Libraries for Neural Networks - Pybrain 1"
      ]
    },
    {
      "cell_type": "code",
      "metadata": {
        "id": "XFg0-w7mawGW",
        "outputId": "350d6864-0019-49a4-e713-0c30964e87ba",
        "colab": {
          "base_uri": "https://localhost:8080/"
        }
      },
      "source": [
        "!pip install https://github.com/pybrain/pybrain/archive/0.3.3.zip"
      ],
      "execution_count": 3,
      "outputs": [
        {
          "output_type": "stream",
          "text": [
            "Collecting https://github.com/pybrain/pybrain/archive/0.3.3.zip\n",
            "  Using cached https://github.com/pybrain/pybrain/archive/0.3.3.zip\n",
            "Requirement already satisfied (use --upgrade to upgrade): PyBrain==0.3.1 from https://github.com/pybrain/pybrain/archive/0.3.3.zip in /usr/local/lib/python3.6/dist-packages\n",
            "Requirement already satisfied: scipy in /usr/local/lib/python3.6/dist-packages (from PyBrain==0.3.1) (1.4.1)\n",
            "Requirement already satisfied: numpy>=1.13.3 in /usr/local/lib/python3.6/dist-packages (from scipy->PyBrain==0.3.1) (1.18.5)\n",
            "Building wheels for collected packages: PyBrain\n",
            "  Building wheel for PyBrain (setup.py) ... \u001b[?25l\u001b[?25hdone\n",
            "  Created wheel for PyBrain: filename=PyBrain-0.3.1-cp36-none-any.whl size=468232 sha256=a1937e971e3701513843f56e77cb59613f16dee1d318d28fd5c13e8b34986630\n",
            "  Stored in directory: /tmp/pip-ephem-wheel-cache-28h80a_p/wheels/0b/04/38/2f174aa3c578350870947ca6ab12e0eb89aef3478c9610eb0a\n",
            "Successfully built PyBrain\n"
          ],
          "name": "stdout"
        }
      ]
    },
    {
      "cell_type": "code",
      "metadata": {
        "id": "0uHk540CbAh1"
      },
      "source": [
        "import pybrain"
      ],
      "execution_count": 5,
      "outputs": []
    },
    {
      "cell_type": "code",
      "metadata": {
        "id": "NbZWFjNUbXv4"
      },
      "source": [
        "from pybrain.structure import FeedForwardNetwork\n",
        "from pybrain.structure import SigmoidLayer, LinearLayer, BiasUnit\n",
        "from pybrain.structure import FullConnection"
      ],
      "execution_count": 6,
      "outputs": []
    },
    {
      "cell_type": "code",
      "metadata": {
        "id": "VUZRypPkcW_V"
      },
      "source": [
        "network = FeedForwardNetwork()"
      ],
      "execution_count": 7,
      "outputs": []
    },
    {
      "cell_type": "code",
      "metadata": {
        "id": "HznqHcrscmsL"
      },
      "source": [
        "# create inputs, hidden layer, outputs, and bias\n",
        "input_layer = LinearLayer(2)\n",
        "hidden_layer = SigmoidLayer(3)\n",
        "output_layer = SigmoidLayer(1)\n",
        "bias0 = BiasUnit()\n",
        "bias1 = BiasUnit()"
      ],
      "execution_count": 8,
      "outputs": []
    },
    {
      "cell_type": "code",
      "metadata": {
        "id": "4YjmIeSRdW3M"
      },
      "source": [
        "## Add layers to network\n",
        "network.addModule(input_layer)\n",
        "network.addModule(hidden_layer)\n",
        "network.addModule(output_layer)\n",
        "# connects input layer to hidden layer\n",
        "network.addModule(bias0)\n",
        "# connects hidden layer to output layer\n",
        "network.addModule(bias1)"
      ],
      "execution_count": 10,
      "outputs": []
    },
    {
      "cell_type": "code",
      "metadata": {
        "id": "TNShu4KudzVU"
      },
      "source": [
        "## Connect layers to each other \n",
        "input_to_hidden = FullConnection(input_layer, hidden_layer)\n",
        "hidden_to_output = FullConnection(hidden_layer, output_layer)\n",
        "bias_hidden = FullConnection(bias0, hidden_layer)\n",
        "bias_output = FullConnection(bias1, output_layer)"
      ],
      "execution_count": 11,
      "outputs": []
    },
    {
      "cell_type": "code",
      "metadata": {
        "id": "bm6Iw-bxeLlP"
      },
      "source": [
        "network.sortModules()"
      ],
      "execution_count": 12,
      "outputs": []
    },
    {
      "cell_type": "code",
      "metadata": {
        "id": "YhayaWeuebJ1",
        "outputId": "cd663d56-a3ae-4e04-89bf-0cc6aa1b580c",
        "colab": {
          "base_uri": "https://localhost:8080/"
        }
      },
      "source": [
        "# visualize structure of network\n",
        "print(network)"
      ],
      "execution_count": 18,
      "outputs": [
        {
          "output_type": "stream",
          "text": [
            "FeedForwardNetwork-10\n",
            "   Modules:\n",
            "    [<BiasUnit 'BiasUnit-5'>, <BiasUnit 'BiasUnit-6'>, <LinearLayer 'LinearLayer-8'>, <SigmoidLayer 'SigmoidLayer-7'>, <SigmoidLayer 'SigmoidLayer-9'>]\n",
            "   Connections:\n",
            "    []\n",
            "\n"
          ],
          "name": "stdout"
        }
      ]
    },
    {
      "cell_type": "code",
      "metadata": {
        "id": "E56yqvNbemLz",
        "outputId": "73d79049-3e72-45e3-dc0d-315dbf49f917",
        "colab": {
          "base_uri": "https://localhost:8080/"
        }
      },
      "source": [
        "print(input_to_hidden.params)"
      ],
      "execution_count": 14,
      "outputs": [
        {
          "output_type": "stream",
          "text": [
            "[ 2.51067231 -0.72845979  0.79205761  0.86080023  2.14466986 -0.90190309]\n"
          ],
          "name": "stdout"
        }
      ]
    },
    {
      "cell_type": "code",
      "metadata": {
        "id": "OAOwCLPnex6v",
        "outputId": "1337bab7-e278-4135-f6ce-28403d5f25b6",
        "colab": {
          "base_uri": "https://localhost:8080/"
        }
      },
      "source": [
        "print(hidden_to_output.params)"
      ],
      "execution_count": 15,
      "outputs": [
        {
          "output_type": "stream",
          "text": [
            "[-0.71170159  0.71984464  0.17151276]\n"
          ],
          "name": "stdout"
        }
      ]
    },
    {
      "cell_type": "code",
      "metadata": {
        "id": "WQjsPaQ8e7E5",
        "outputId": "8ff56f35-c307-40c5-f34b-ece642d1177a",
        "colab": {
          "base_uri": "https://localhost:8080/"
        }
      },
      "source": [
        "print(bias_hidden.params)"
      ],
      "execution_count": 16,
      "outputs": [
        {
          "output_type": "stream",
          "text": [
            "[-0.51911644 -0.97560203 -1.84047434]\n"
          ],
          "name": "stdout"
        }
      ]
    },
    {
      "cell_type": "code",
      "metadata": {
        "id": "Dsk-MJB5fDwG",
        "outputId": "2ea79f4b-e6a5-4bce-db6c-0011a1292995",
        "colab": {
          "base_uri": "https://localhost:8080/"
        }
      },
      "source": [
        "print(bias_output.params)"
      ],
      "execution_count": 17,
      "outputs": [
        {
          "output_type": "stream",
          "text": [
            "[0.84350041]\n"
          ],
          "name": "stdout"
        }
      ]
    },
    {
      "cell_type": "code",
      "metadata": {
        "id": "utMdv0ogzcaK"
      },
      "source": [
        ""
      ],
      "execution_count": null,
      "outputs": []
    }
  ]
}